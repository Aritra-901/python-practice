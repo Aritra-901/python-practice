{
 "cells": [
  {
   "cell_type": "markdown",
   "metadata": {},
   "source": [
    "## General List"
   ]
  },
  {
   "cell_type": "code",
   "execution_count": 1,
   "metadata": {},
   "outputs": [],
   "source": [
    "class Node:\n",
    "    def __init__(self,data = None,link = None):\n",
    "        self.data = data\n",
    "        self.link = link\n",
    "    def __str__(self):\n",
    "        return str(self.data)"
   ]
  },
  {
   "cell_type": "code",
   "execution_count": 2,
   "metadata": {},
   "outputs": [],
   "source": [
    "class GeneralList:\n",
    "    def __init__(self):\n",
    "        self.count = 0\n",
    "        self.head = None\n",
    "    def insert(self,pos, data):\n",
    "        if pos <0 or pos>self.count:\n",
    "            raise Exception(f'Invalid position {pos}')\n",
    "        node = Node(data)\n",
    "        if pos==0:\n",
    "            node.link = self.head\n",
    "            self.head = node\n",
    "        else:\n",
    "            s = 0\n",
    "            curr = self.head\n",
    "            ## Alternative loop\n",
    "            # for i in range(pos-1):\n",
    "            #      curr = curr.link\n",
    "            while s!=pos-1:\n",
    "                curr = curr.link\n",
    "                s+=1\n",
    "            node.link = curr.link\n",
    "            curr.link = node\n",
    "        self.count+=1\n",
    "    def traverse(self):\n",
    "        curr = self.head\n",
    "        while curr!=None:\n",
    "            print(curr.data, end=' ')\n",
    "            curr = curr.link"
   ]
  },
  {
   "cell_type": "code",
   "execution_count": 3,
   "metadata": {},
   "outputs": [],
   "source": [
    "gl = GeneralList()"
   ]
  },
  {
   "cell_type": "code",
   "execution_count": 4,
   "metadata": {},
   "outputs": [],
   "source": [
    "gl.insert(0,42)"
   ]
  },
  {
   "cell_type": "code",
   "execution_count": 5,
   "metadata": {},
   "outputs": [],
   "source": [
    "\n",
    "gl.insert(0,52)"
   ]
  },
  {
   "cell_type": "code",
   "execution_count": 6,
   "metadata": {},
   "outputs": [],
   "source": [
    "gl.insert(1,46)"
   ]
  },
  {
   "cell_type": "code",
   "execution_count": 7,
   "metadata": {},
   "outputs": [
    {
     "name": "stdout",
     "output_type": "stream",
     "text": [
      "52 46 42 "
     ]
    }
   ],
   "source": [
    "gl.traverse()"
   ]
  },
  {
   "cell_type": "code",
   "execution_count": 8,
   "metadata": {},
   "outputs": [],
   "source": [
    "from random import randint\n"
   ]
  },
  {
   "cell_type": "code",
   "execution_count": 9,
   "metadata": {},
   "outputs": [],
   "source": [
    "a = GeneralList()\n",
    "for i in range(randint(10,20)):\n",
    "    a.insert(i, randint(10,100))"
   ]
  },
  {
   "cell_type": "code",
   "execution_count": 10,
   "metadata": {},
   "outputs": [
    {
     "name": "stdout",
     "output_type": "stream",
     "text": [
      "81 50 19 70 10 13 12 24 51 21 36 88 35 21 100 25 28 21 85 "
     ]
    }
   ],
   "source": [
    "a.traverse()"
   ]
  },
  {
   "cell_type": "code",
   "execution_count": 11,
   "metadata": {},
   "outputs": [
    {
     "data": {
      "text/plain": [
       "19"
      ]
     },
     "execution_count": 11,
     "metadata": {},
     "output_type": "execute_result"
    }
   ],
   "source": [
    "a.count"
   ]
  },
  {
   "cell_type": "code",
   "execution_count": 12,
   "metadata": {},
   "outputs": [
    {
     "name": "stdout",
     "output_type": "stream",
     "text": [
      "Enter position: 54\n",
      "Enter an integer: 2\n",
      "Invalid position 54\n"
     ]
    }
   ],
   "source": [
    "\n",
    "try:\n",
    "    p = int(input(\"Enter position: \"))\n",
    "    data = int(input(\"Enter an integer: \"))\n",
    "    a.insert(p,data)\n",
    "    print(\"Item inserted\")\n",
    "    a.traverse()\n",
    "except Exception as e:\n",
    "    print(e)"
   ]
  },
  {
   "cell_type": "code",
   "execution_count": 13,
   "metadata": {},
   "outputs": [
    {
     "ename": "TypeError",
     "evalue": "'GeneralList' object is not iterable",
     "output_type": "error",
     "traceback": [
      "\u001b[1;31m---------------------------------------------------------------------------\u001b[0m",
      "\u001b[1;31mTypeError\u001b[0m                                 Traceback (most recent call last)",
      "\u001b[1;32m<ipython-input-13-7015a0e1ecaf>\u001b[0m in \u001b[0;36m<module>\u001b[1;34m\u001b[0m\n\u001b[1;32m----> 1\u001b[1;33m \u001b[1;32mfor\u001b[0m \u001b[0mitem\u001b[0m \u001b[1;32min\u001b[0m \u001b[0ma\u001b[0m\u001b[1;33m:\u001b[0m\u001b[1;33m\u001b[0m\u001b[1;33m\u001b[0m\u001b[0m\n\u001b[0m\u001b[0;32m      2\u001b[0m     \u001b[0mprint\u001b[0m\u001b[1;33m(\u001b[0m\u001b[0mitem\u001b[0m\u001b[1;33m)\u001b[0m\u001b[1;33m\u001b[0m\u001b[1;33m\u001b[0m\u001b[0m\n",
      "\u001b[1;31mTypeError\u001b[0m: 'GeneralList' object is not iterable"
     ]
    }
   ],
   "source": [
    "for item in a:\n",
    "    print(item)"
   ]
  },
  {
   "cell_type": "code",
   "execution_count": 14,
   "metadata": {},
   "outputs": [],
   "source": [
    "class GeneralList:\n",
    "    def __init__(self):\n",
    "        self.count = 0\n",
    "        self.head = None\n",
    "    def insert(self,pos, data):\n",
    "        if pos <0 or pos>self.count:\n",
    "            raise Exception(f'Invalid position {pos}')\n",
    "        node = Node(data)\n",
    "        if pos==0:\n",
    "            node.link = self.head\n",
    "            self.head = node\n",
    "        else:\n",
    "            s = 0\n",
    "            curr = self.head\n",
    "            ## Alternative loop\n",
    "            # for i in range(pos-1):\n",
    "            #      curr = curr.link\n",
    "            while s!=pos-1:\n",
    "                curr = curr.link\n",
    "                s+=1\n",
    "            node.link = curr.link\n",
    "            curr.link = node\n",
    "        self.count+=1\n",
    "    def traverse(self):\n",
    "        curr = self.head\n",
    "        while curr!=None:\n",
    "            print(curr.data, end=' ')\n",
    "            curr = curr.link\n",
    "    #For loop way        \n",
    "    def __iter__(self): # for setuping iterator\n",
    "        self.current = self.head\n",
    "        return self\n",
    "    def __next__(self): \n",
    "        if self.current == None:\n",
    "            raise StopIteration\n",
    "        data = self.current.data\n",
    "        self.current = self.current.link\n",
    "        return data"
   ]
  },
  {
   "cell_type": "code",
   "execution_count": 15,
   "metadata": {},
   "outputs": [],
   "source": [
    "a = GeneralList()"
   ]
  },
  {
   "cell_type": "code",
   "execution_count": 16,
   "metadata": {},
   "outputs": [],
   "source": [
    "\n",
    "for i in range(randint(10,20)):\n",
    "    a.insert(i, randint(10,100))"
   ]
  },
  {
   "cell_type": "code",
   "execution_count": 17,
   "metadata": {},
   "outputs": [
    {
     "name": "stdout",
     "output_type": "stream",
     "text": [
      "26\n",
      "100\n",
      "42\n",
      "28\n",
      "69\n",
      "68\n",
      "65\n",
      "15\n",
      "92\n",
      "83\n"
     ]
    }
   ],
   "source": [
    "for item in a:\n",
    "    print(item)"
   ]
  },
  {
   "cell_type": "code",
   "execution_count": 18,
   "metadata": {},
   "outputs": [
    {
     "name": "stdout",
     "output_type": "stream",
     "text": [
      "26\n",
      "100\n",
      "42\n",
      "28\n",
      "69\n",
      "68\n",
      "65\n",
      "15\n",
      "92\n",
      "83\n"
     ]
    }
   ],
   "source": [
    "curr = a.head\n",
    "while a.head!=None:\n",
    "    print(a.head.data)\n",
    "    a.head = a.head.link"
   ]
  },
  {
   "cell_type": "code",
   "execution_count": null,
   "metadata": {},
   "outputs": [],
   "source": []
  }
 ],
 "metadata": {
  "kernelspec": {
   "display_name": "Python 3",
   "language": "python",
   "name": "python3"
  },
  "language_info": {
   "codemirror_mode": {
    "name": "ipython",
    "version": 3
   },
   "file_extension": ".py",
   "mimetype": "text/x-python",
   "name": "python",
   "nbconvert_exporter": "python",
   "pygments_lexer": "ipython3",
   "version": "3.8.5"
  }
 },
 "nbformat": 4,
 "nbformat_minor": 4
}
