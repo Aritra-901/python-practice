{
 "cells": [
  {
   "cell_type": "markdown",
   "metadata": {},
   "source": [
    "## Flow of control\n",
    "## Sequential\n",
    "## condition\n",
    "## iterative"
   ]
  },
  {
   "cell_type": "code",
   "execution_count": 1,
   "metadata": {},
   "outputs": [
    {
     "name": "stdout",
     "output_type": "stream",
     "text": [
      "enter your marks45\n",
      "end\n"
     ]
    }
   ],
   "source": [
    "marks=int(input(\"enter your marks\"))\n",
    "if(marks>=80):\n",
    "    print(\"good\")\n",
    "    print('Grade A')\n",
    "print(\"end\")    "
   ]
  },
  {
   "cell_type": "code",
   "execution_count": 2,
   "metadata": {},
   "outputs": [
    {
     "name": "stdout",
     "output_type": "stream",
     "text": [
      "enter your marks90\n",
      "good\n",
      "Grade A\n",
      "end\n"
     ]
    }
   ],
   "source": [
    "marks=int(input(\"enter your marks\"))\n",
    "if(marks>=80):\n",
    "    print(\"good\")\n",
    "    print('Grade A')\n",
    "else:\n",
    "    print(\"bad\")\n",
    "print(\"end\")    "
   ]
  },
  {
   "cell_type": "code",
   "execution_count": 5,
   "metadata": {},
   "outputs": [
    {
     "name": "stdout",
     "output_type": "stream",
     "text": [
      "enter your marks15\n",
      "grade=D\n"
     ]
    }
   ],
   "source": [
    "marks=int(input(\"enter your marks\"))\n",
    "if (marks>=80 and marks<=100):\n",
    "    grade='A'\n",
    "else:\n",
    "        if marks>=60:\n",
    "            grade='B'\n",
    "        else:\n",
    "            if marks>=40:\n",
    "                grade='c'\n",
    "            else:\n",
    "                grade='D'\n",
    "print(f'grade={grade}')            "
   ]
  },
  {
   "cell_type": "code",
   "execution_count": 6,
   "metadata": {},
   "outputs": [
    {
     "name": "stdout",
     "output_type": "stream",
     "text": [
      "enter your marks85\n",
      "grade=A\n"
     ]
    }
   ],
   "source": [
    "marks=int(input(\"enter your marks\"))\n",
    "if(marks>=80 and marks<=100):\n",
    "    grade='A'\n",
    "    if marks>=90:\n",
    "        grade='A+'\n",
    "else:\n",
    "    if marks>=60:\n",
    "        grade='B'\n",
    "    else:\n",
    "        if marks>=40:\n",
    "            grade='c'\n",
    "        else:\n",
    "            grade='D'\n",
    "print(f\"grade={grade}\")            \n",
    "            "
   ]
  },
  {
   "cell_type": "code",
   "execution_count": 7,
   "metadata": {},
   "outputs": [
    {
     "name": "stdout",
     "output_type": "stream",
     "text": [
      "enter your marks6\n",
      "grade=D\n"
     ]
    }
   ],
   "source": [
    "marks=int(input(\"enter your marks\"))\n",
    "if(marks>=80 and marks<=100):\n",
    "    grade='A'\n",
    "    if marks>=90:\n",
    "        grade='A+'\n",
    "elif marks>=60:\n",
    "        grade='B'\n",
    "elif marks>=40:\n",
    "     grade='c'\n",
    "else:\n",
    "     grade='D'\n",
    "print(f\"grade={grade}\")    "
   ]
  },
  {
   "cell_type": "markdown",
   "metadata": {},
   "source": [
    "## Conditional operator in python is just expression\n",
    " \n",
    " x?yz y if x else z"
   ]
  },
  {
   "cell_type": "code",
   "execution_count": 8,
   "metadata": {},
   "outputs": [
    {
     "name": "stdout",
     "output_type": "stream",
     "text": [
      "enter the marks:90\n",
      "good\n"
     ]
    }
   ],
   "source": [
    "marks=int(input(\"enter the marks:\"))\n",
    "b='good'if marks>=80 else'bad'\n",
    "print(b)"
   ]
  },
  {
   "cell_type": "code",
   "execution_count": 9,
   "metadata": {},
   "outputs": [
    {
     "name": "stdout",
     "output_type": "stream",
     "text": [
      "enter tyhe marks55\n",
      "c\n"
     ]
    }
   ],
   "source": [
    "marks=int(input(\"enter tyhe marks\"))\n",
    "b='A' if marks>=80 else'B' if marks<80 and marks>=60 else 'c' if marks<60 and marks>=40 else'D'\n",
    "print(b)"
   ]
  },
  {
   "cell_type": "markdown",
   "metadata": {},
   "source": [
    "## Factorial recursive definition\n",
    "\n",
    "fact(n)=n*fact(n-1) if n>0"
   ]
  },
  {
   "cell_type": "code",
   "execution_count": 10,
   "metadata": {},
   "outputs": [
    {
     "name": "stdout",
     "output_type": "stream",
     "text": [
      "120\n"
     ]
    }
   ],
   "source": [
    "def factorial(n):\n",
    "    return 1 if n==0 else n*factorial(n-1)\n",
    "print(factorial(5))"
   ]
  },
  {
   "cell_type": "markdown",
   "metadata": {},
   "source": [
    "## Fibonacci Series\n",
    "\n",
    "recursive divide and conquer algorithm (time consuming for fibonacci series as multiple subproblems repeats best way is dynamic programming)"
   ]
  },
  {
   "cell_type": "code",
   "execution_count": 11,
   "metadata": {},
   "outputs": [
    {
     "name": "stdout",
     "output_type": "stream",
     "text": [
      "3\n"
     ]
    }
   ],
   "source": [
    "def fibo(n):\n",
    "    return 0 if n==1 else 1 if n==2 else fibo(n-2)+fibo(n-1)\n",
    "print(fibo(5))"
   ]
  },
  {
   "cell_type": "markdown",
   "metadata": {},
   "source": [
    "## Loops\n",
    "\n",
    "## 1.Counter Control loop\n",
    "\n",
    "CCL- used when is initialize and know the number of iteration.\n",
    "\n",
    "## 2. Sentinel control loop\n",
    "\n",
    "SCL-dunno the number of iteration it is used for such cases.\n",
    "\n",
    "## While loop example\n",
    "\n",
    "Factorial iterative way\n",
    "\n",
    "\n"
   ]
  },
  {
   "cell_type": "code",
   "execution_count": 12,
   "metadata": {},
   "outputs": [
    {
     "name": "stdout",
     "output_type": "stream",
     "text": [
      "enter n:5\n",
      "5 is 120\n"
     ]
    }
   ],
   "source": [
    "n=int(input('enter n:'))\n",
    "f=1\n",
    "i=2\n",
    "while i<=n:\n",
    "    f*=i\n",
    "    i+=1\n",
    "print(f\"{n} is {f}\")    "
   ]
  },
  {
   "cell_type": "code",
   "execution_count": null,
   "metadata": {},
   "outputs": [],
   "source": []
  }
 ],
 "metadata": {
  "kernelspec": {
   "display_name": "Python 3",
   "language": "python",
   "name": "python3"
  },
  "language_info": {
   "codemirror_mode": {
    "name": "ipython",
    "version": 3
   },
   "file_extension": ".py",
   "mimetype": "text/x-python",
   "name": "python",
   "nbconvert_exporter": "python",
   "pygments_lexer": "ipython3",
   "version": "3.8.5"
  }
 },
 "nbformat": 4,
 "nbformat_minor": 4
}
